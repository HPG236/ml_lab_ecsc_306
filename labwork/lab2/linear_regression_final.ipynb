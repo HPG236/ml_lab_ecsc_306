{
 "cells": [
  {
   "cell_type": "code",
   "execution_count": 1,
   "metadata": {
    "collapsed": true
   },
   "outputs": [],
   "source": [
    "import tensorflow as tf\n",
    "import numpy\n",
    "import matplotlib.pyplot as plt\n",
    "rng = numpy.random"
   ]
  },
  {
   "cell_type": "code",
   "execution_count": 2,
   "metadata": {
    "collapsed": true
   },
   "outputs": [],
   "source": [
    "learning_rate = 0.005\n",
    "training_epochs = 100\n",
    "display_step = 10"
   ]
  },
  {
   "cell_type": "code",
   "execution_count": 10,
   "metadata": {
    "collapsed": true
   },
   "outputs": [],
   "source": [
    "x_array= tf.constant([1.0,3.0,5.0,4.0,3.0,7.8,3.5,1.4,3.3,2.2])\n",
    "y_array =tf.constant([2.0,4.0,6.0,6.7,5.6,7.7,8.0,9.0,5.0,3.0])\n",
    "\n"
   ]
  },
  {
   "cell_type": "code",
   "execution_count": 11,
   "metadata": {},
   "outputs": [
    {
     "name": "stdout",
     "output_type": "stream",
     "text": [
      "theta0= 0.693027 theta1= 1.26644 error= 0.493604\n",
      "theta0= 1.03998 theta1= 1.18832 error= 0.673965\n",
      "theta0= 1.35007 theta1= 1.1183 error= 0.834703\n",
      "theta0= 1.62726 theta1= 1.05571 error= 0.978384\n",
      "theta0= 1.87504 theta1= 0.999754 error= 1.10682\n",
      "theta0= 2.09653 theta1= 0.949741 error= 1.22163\n",
      "theta0= 2.29451 theta1= 0.905034 error= 1.32425\n",
      "theta0= 2.47149 theta1= 0.86507 error= 1.41599\n",
      "theta0= 2.62968 theta1= 0.829348 error= 1.49799\n",
      "theta0= 2.77109 theta1= 0.797415 error= 1.57129\n",
      "Optimization Finished!\n"
     ]
    }
   ],
   "source": [
    "theta0=0.0\n",
    "theta1=0.0\n",
    "# Launch the graph\n",
    "with tf.Session() as sess:\n",
    "    \n",
    "    for epoch in range(training_epochs):\n",
    "        for i in range(0,10):\n",
    "            xt1=tf.multiply(theta1,x_array[i])\n",
    "            predy=tf.add(theta0,xt1)\n",
    "            error=tf.subtract(predy,y_array[i])\n",
    "            \n",
    "            theta0=tf.subtract(theta0,tf.multiply(learning_rate,error))\n",
    "            theta1 =tf.subtract(theta1,tf.multiply(learning_rate,tf.multiply(error,x_array[i])))\n",
    "        \n",
    "        if (epoch+1) % display_step == 0:\n",
    "            print(\"theta0=\",sess.run(theta0),\"theta1=\",sess.run(theta1),\"error=\",sess.run(error))\n",
    "           \n",
    "           \n",
    "            \n",
    "    print (\"Optimization Finished!\")\n",
    "    "
   ]
  },
  {
   "cell_type": "code",
   "execution_count": 13,
   "metadata": {},
   "outputs": [
    {
     "data": {
      "image/png": "[encoded data removed]",
      "text/plain": [
       "<matplotlib.figure.Figure at 0x7faf13641390>"
      ]
     },
     "metadata": {},
     "output_type": "display_data"
    }
   ],
   "source": [
    "sess=tf.Session()\n",
    "x=sess.run(x_array)\n",
    "y=sess.run(y_array)\n",
    "plt.plot(x, y, 'ro', label='Original data')\n",
    "plt.plot(x, sess.run(theta1) * x + sess.run(theta0), label='Fitted line')\n",
    "plt.legend()\n",
    "plt.show()"
   ]
  },
  {
   "cell_type": "code",
   "execution_count": null,
   "metadata": {
    "collapsed": true
   },
   "outputs": [],
   "source": []
  }
 ],
 "metadata": {
  "kernelspec": {
   "display_name": "Python 3",
   "language": "python",
   "name": "python3"
  },
  "language_info": {
   "codemirror_mode": {
    "name": "ipython",
    "version": 3
   },
   "file_extension": ".py",
   "mimetype": "text/x-python",
   "name": "python",
   "nbconvert_exporter": "python",
   "pygments_lexer": "ipython3",
   "version": "3.6.1"
  }
 },
 "nbformat": 4,
 "nbformat_minor": 2
}
