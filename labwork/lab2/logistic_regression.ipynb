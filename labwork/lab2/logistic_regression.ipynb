{
 "cells": [
  {
   "cell_type": "code",
   "execution_count": 1,
   "metadata": {
    "collapsed": true
   },
   "outputs": [],
   "source": [
    "import tensorflow as tf\n",
    "import matplotlib.pyplot as plt"
   ]
  },
  {
   "cell_type": "code",
   "execution_count": 2,
   "metadata": {
    "collapsed": true
   },
   "outputs": [],
   "source": [
    "x = tf.constant([1.0,2.0,3.0,4.0,5.0],name ='x')\n",
    "y = tf.constant([6.0,7.0,8.0,9.0,10.0],name='y')\n"
   ]
  },
  {
   "cell_type": "code",
   "execution_count": 4,
   "metadata": {
    "collapsed": true
   },
   "outputs": [],
   "source": [
    "training_epoch = 1000\n",
    "learning_rate = 0.005\n",
    "step=50\n",
    "t1=0.0\n",
    "t0=0.0"
   ]
  },
  {
   "cell_type": "code",
   "execution_count": 8,
   "metadata": {},
   "outputs": [
    {
     "name": "stdout",
     "output_type": "stream",
     "text": [
      "h0: 0.5\n",
      "c: 1.0\n"
     ]
    }
   ],
   "source": [
    "h0=tf.divide(1.0,tf.add(1.0,tf.exp(-tf.add(t0,tf.reduce_sum(tf.multiply(t1,x))))))\n",
    "model=tf.global_variables_initializer()\n",
    "sess = tf.Session()\n",
    "print(\"h0:\",sess.run(h0))\n",
    "c=tf.cond(h0<0.5,lambda:0.00,lambda:1.00)\n",
    "print(\"c:\",sess.run(c))\n"
   ]
  },
  {
   "cell_type": "code",
   "execution_count": 9,
   "metadata": {},
   "outputs": [
    {
     "name": "stdout",
     "output_type": "stream",
     "text": [
      "Cost function: -inf\n"
     ]
    }
   ],
   "source": [
    "#cost function\n",
    "v=tf.multiply(y,tf.log(c))\n",
    "n=tf.subtract(1.0,y)\n",
    "m=tf.log(tf.subtract(1.0,c))\n",
    "m1=tf.multiply(n,m)\n",
    "m2=tf.reduce_sum(tf.subtract(-v,m1))\n",
    "print(\"Cost function:\",sess.run(m2))\n",
    "\n",
    "sess = tf.Session()\n"
   ]
  },
  {
   "cell_type": "code",
   "execution_count": 12,
   "metadata": {},
   "outputs": [
    {
     "name": "stdout",
     "output_type": "stream",
     "text": [
      "W :  0.25225    b :  0.07785\n",
      "W :  2.06975    b :  0.776465\n",
      "W :  2.11018    b :  0.974776\n",
      "W :  2.06823    b :  1.14253\n",
      "W :  2.0242    b :  1.30227\n",
      "W :  1.98181    b :  1.45536\n",
      "W :  1.94116    b :  1.6021\n",
      "W :  1.9022    b :  1.74277\n",
      "W :  1.86485    b :  1.87761\n",
      "W :  1.82905    b :  2.00688\n",
      "W :  1.79473    b :  2.13079\n",
      "W :  1.76183    b :  2.24957\n",
      "W :  1.73029    b :  2.36343\n",
      "W :  1.70005    b :  2.47258\n",
      "W :  1.67107    b :  2.57721\n",
      "W :  1.64329    b :  2.67751\n",
      "W :  1.61666    b :  2.77366\n",
      "W :  1.59113    b :  2.86583\n",
      "W :  1.56666    b :  2.95418\n",
      "W :  1.5432    b :  3.03887\n",
      "After  the 1000 epoch values:\n",
      "W :  1.52115\n",
      "b :  3.11847\n"
     ]
    }
   ],
   "source": [
    "for epoch in range(training_epoch):\n",
    "                                 \n",
    "    s1=tf.reduce_sum(tf.multiply(tf.subtract(tf.add(tf.multiply(x,t1),t0),y),x))\n",
    "    s0=tf.reduce_sum(tf.subtract(tf.add(tf.multiply(x,t1),t0),y))\n",
    "    tn1 = tf.subtract(t1,tf.multiply(learning_rate,tf.divide(s1,tf.cast(tf.size(x),tf.float32))))\n",
    "    tn0=  tf.subtract(t0,tf.multiply(learning_rate,tf.divide(s0,tf.cast(tf.size(x),tf.float32))))\n",
    "    t1=tn1\n",
    "    t0=tn0\n",
    "    model=tf.global_variables_initializer()\n",
    "    if (epoch%step==0):\n",
    "        print(\"W : \",sess.run(tn1),\"   b : \",sess.run(tn0))\n",
    "\n",
    "    \n",
    "\n",
    "print(\"After  the 1000 epoch values:\")\n",
    "print(\"W : \",sess.run(tn1))\n",
    "print(\"b : \",sess.run(tn0))\n",
    "\n"
   ]
  },
  {
   "cell_type": "code",
   "execution_count": null,
   "metadata": {
    "collapsed": true
   },
   "outputs": [],
   "source": []
  }
 ],
 "metadata": {
  "kernelspec": {
   "display_name": "Python 3",
   "language": "python",
   "name": "python3"
  },
  "language_info": {
   "codemirror_mode": {
    "name": "ipython",
    "version": 3
   },
   "file_extension": ".py",
   "mimetype": "text/x-python",
   "name": "python",
   "nbconvert_exporter": "python",
   "pygments_lexer": "ipython3",
   "version": "3.6.1"
  }
 },
 "nbformat": 4,
 "nbformat_minor": 2
}
