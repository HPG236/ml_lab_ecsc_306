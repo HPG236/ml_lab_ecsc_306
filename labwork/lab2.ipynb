{
 "cells": [
  {
   "cell_type": "code",
   "execution_count": 61,
   "metadata": {},
   "outputs": [
    {
     "name": "stdout",
     "output_type": "stream",
     "text": [
      "[  4.          89.90000153   4.        ]\n",
      "[ 35.40000153  40.          45.        ]\n"
     ]
    }
   ],
   "source": [
    "import tensorflow as tf\n",
    "\n",
    "#reading arrays x and y\n",
    "x = tf.constant([4.0, 89.9, 4], name='x')\n",
    "y = tf.constant([35.4, 40, 45], name='y')\n",
    "\n",
    "\n",
    "\n",
    "model = tf.global_variables_initializer()\n",
    "\n",
    "with tf.Session() as session:\n",
    "\tsession.run(model)\n",
    "\tprint(session.run(x))\n",
    "with tf.Session() as session:\n",
    "\tsession.run(model)\n",
    "\tprint(session.run(y))\n",
    "    "
   ]
  },
  {
   "cell_type": "code",
   "execution_count": 71,
   "metadata": {},
   "outputs": [
    {
     "name": "stdout",
     "output_type": "stream",
     "text": [
      "[ 35.40000153  40.          45.        ]\n",
      "40.1333\n"
     ]
    }
   ],
   "source": [
    "#mean of x and y\n",
    "with tf.name_scope(\"Array_x\"):\n",
    "    a=tf.reduce_mean(x)\n",
    "    b=tf.reduce_mean(y)\n",
    "with tf.Session() as session:\n",
    "\tsession.run(model)\n",
    "\tprint(session.run(y))\n",
    "    \n",
    "\n",
    "\n",
    "with tf.Session() as session:\n",
    "\tsession.run(model)\n",
    "\tprint(session.run(b))\n",
    "    "
   ]
  },
  {
   "cell_type": "code",
   "execution_count": null,
   "metadata": {},
   "outputs": [],
   "source": []
  },
  {
   "cell_type": "code",
   "execution_count": 83,
   "metadata": {},
   "outputs": [
    {
     "name": "stdout",
     "output_type": "stream",
     "text": [
      "32.3333333333\n",
      "40.0\n"
     ]
    }
   ],
   "source": [
    "#mean of x and y\n",
    "sum1=tf.constant(0)\n",
    "with tf.name_scope(\"mean_x\"):\n",
    "    with tf.Session() as sess:\n",
    "        for i in range(len(sess.run(x))):\n",
    "            output =sess.run(x[i])\n",
    "            sum1=tf.add(sum1,output)\n",
    "        a=tf.divide(sum1,len(sess.run(x)))\n",
    "        meanx=sess.run(a)\n",
    "print(meanx)\n",
    "\n",
    "\n",
    "sum1=tf.constant(0)\n",
    "with tf.name_scope(\"mean_y\"):\n",
    "      with tf.Session() as sess:\n",
    "        for i in range(len(sess.run(y))):\n",
    "            output =sess.run(y[i])\n",
    "            sum1=tf.add(sum1,output)\n",
    "        a=tf.divide(sum1,len(sess.run(y)))\n",
    "        meany=sess.run(a)\n",
    "print(meany)"
   ]
  },
  {
   "cell_type": "code",
   "execution_count": 84,
   "metadata": {},
   "outputs": [
    {
     "name": "stdout",
     "output_type": "stream",
     "text": [
      "4919.48\n",
      "-11.3334\n"
     ]
    }
   ],
   "source": [
    "#variance and covariance\n",
    "sum2=tf.constant(0.0)\n",
    "with tf.name_scope(\"Variance\"):\n",
    "    with tf.Session() as sess:\n",
    "        for i in range(len(sess.run(x))):\n",
    "            a=tf.subtract(sess.run(x[i]),meanx)\n",
    "            b=tf.square(a)\n",
    "            sum2=tf.add(sum2,b)\n",
    "        variance=sess.run(var)\n",
    "print(variance)\n",
    "\n",
    "\n",
    "\n",
    "\n",
    "sum3=tf.constant(0.0)\n",
    "with tf.name_scope(\"Covariance\"):\n",
    "    with tf.Session() as sess:\n",
    "        for i in range(len(sess.run(x))):\n",
    "            a=tf.subtract(sess.run(x[i]),avgx)\n",
    "            b=tf.subtract(sess.run(y[i]),avgy)\n",
    "            c=tf.multiply(a,b)\n",
    "            sum3=tf.add(sum3,c)\n",
    "        covariance=sess.run(sum3)\n",
    "print(covariance)"
   ]
  },
  {
   "cell_type": "code",
   "execution_count": 85,
   "metadata": {},
   "outputs": [
    {
     "name": "stdout",
     "output_type": "stream",
     "text": [
      "-0.00230378\n"
     ]
    }
   ],
   "source": [
    "#value of c\n",
    "with tf.name_scope(\"value_of_c\"):\n",
    "    l=tf.divide(covariance,variance)\n",
    "print(l)\n"
   ]
  },
  {
   "cell_type": "code",
   "execution_count": 86,
   "metadata": {},
   "outputs": [
    {
     "name": "stdout",
     "output_type": "stream",
     "text": [
      "Tensor(\"value_of_m/Sub:0\", shape=(), dtype=float32)\n",
      "40.0745\n"
     ]
    }
   ],
   "source": [
    "#value of m\n",
    "with tf.name_scope(\"value_of_m\"):\n",
    "    me=tf.to_float(meany)\n",
    "    m1=tf.multiply(l,meanx)\n",
    "    m=tf.subtract(me,m1)\n",
    "\n",
    "with tf.Session() as session:\n",
    "\tsession.run(model)\n",
    "\tprint(session.run(m))\n",
    "    "
   ]
  },
  {
   "cell_type": "code",
   "execution_count": null,
   "metadata": {
    "collapsed": true
   },
   "outputs": [],
   "source": []
  }
 ],
 "metadata": {
  "kernelspec": {
   "display_name": "Python 3",
   "language": "python",
   "name": "python3"
  },
  "language_info": {
   "codemirror_mode": {
    "name": "ipython",
    "version": 3
   },
   "file_extension": ".py",
   "mimetype": "text/x-python",
   "name": "python",
   "nbconvert_exporter": "python",
   "pygments_lexer": "ipython3",
   "version": "3.6.1"
  }
 },
 "nbformat": 4,
 "nbformat_minor": 2
}
