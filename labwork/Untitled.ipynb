{
 "cells": [
  {
   "cell_type": "markdown",
   "metadata": {},
   "source": [
    "(a-b)^2=a^2+b^2-2ab"
   ]
  },
  {
   "cell_type": "code",
   "execution_count": 4,
   "metadata": {},
   "outputs": [
    {
     "name": "stdout",
     "output_type": "stream",
     "text": [
      "4\n"
     ]
    }
   ],
   "source": [
    "import tensorflow as tf\n",
    "v1=tf.constant(4)\n",
    "v2=tf.constant(2)\n",
    "with tf.name_scope(\"(a-b)^2\"):\n",
    "    with tf.name_scope(\"v1v1\"):\n",
    "        a = tf.multiply(v1,v1)\n",
    "    with tf.name_scope(\"v2v2\"):\n",
    "        b = tf.multiply(v2,v2)\n",
    "with tf.name_scope(\"a^2+b^2\"):\n",
    "    c = tf.add(a, b, name=\"And_These_ones\")\n",
    "with tf.name_scope(\"v1v2\"):\n",
    "    d = tf.multiply(v1, v2, name=\"Multiply_these_numbers\")\n",
    "\n",
    "with tf.name_scope(\"2v1v2\"):\n",
    "    e = tf.multiply(2, d, name=\"B_add\")\n",
    "\n",
    "g = tf.subtract(c,e)\n",
    "\n",
    "\n",
    "\n",
    "with tf.Session() as sess:\n",
    "    writer = tf.summary.FileWriter(\"/tmp/tboard/output3/abc\", sess.graph)\n",
    "    print(sess.run(g))\n",
    "    writer.close()\n",
    "    \n"
   ]
  },
  {
   "cell_type": "markdown",
   "metadata": {},
   "source": [
    "(a^3+b^3)=(a+b)(a^2-ab+b^2)"
   ]
  },
  {
   "cell_type": "code",
   "execution_count": 1,
   "metadata": {},
   "outputs": [
    {
     "name": "stdout",
     "output_type": "stream",
     "text": [
      "16\n"
     ]
    }
   ],
   "source": [
    "import tensorflow as tf\n",
    "v1=tf.constant(2)\n",
    "v2=tf.constant(2)\n",
    "with tf.name_scope(\"a_square_b_square\"):\n",
    "        a = tf.multiply(v1,v1)\n",
    "        b = tf.multiply(v2,v2)  \n",
    "        with tf.name_scope(\"a_square_plus_b_square\"):\n",
    "            c = tf.add(a, b, name=\"And_These_ones\")\n",
    "        with tf.name_scope(\"ab\"):  \n",
    "            d = tf.multiply(v1, v2, name=\"Multiply_these_numbers\")\n",
    "        with tf.name_scope(\"a_square_plus_b_square_minus_ab\"):\n",
    "            e=tf.subtract(c,d, name=\"subtrating\")\n",
    "with tf.name_scope(\"a_plus_b\"):  \n",
    "    f=tf.add(v1,v2)\n",
    "with tf.name_scope(\"a_cube_plus_b_cube\"):\n",
    "    g = tf.multiply(f,e)\n",
    "\n",
    "\n",
    "with tf.Session() as sess:\n",
    "    writer = tf.summary.FileWriter(\"/tmp/tboard/output3/hari\", sess.graph)\n",
    "    print(sess.run(g))\n",
    "    writer.close()"
   ]
  },
  {
   "cell_type": "code",
   "execution_count": null,
   "metadata": {
    "collapsed": true
   },
   "outputs": [],
   "source": []
  }
 ],
 "metadata": {
  "kernelspec": {
   "display_name": "Python 3",
   "language": "python",
   "name": "python3"
  },
  "language_info": {
   "codemirror_mode": {
    "name": "ipython",
    "version": 3
   },
   "file_extension": ".py",
   "mimetype": "text/x-python",
   "name": "python",
   "nbconvert_exporter": "python",
   "pygments_lexer": "ipython3",
   "version": "3.6.1"
  }
 },
 "nbformat": 4,
 "nbformat_minor": 2
}
