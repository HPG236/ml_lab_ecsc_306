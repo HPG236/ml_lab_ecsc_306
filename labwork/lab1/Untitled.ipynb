{
 "cells": [
  {
   "cell_type": "markdown",
   "metadata": {},
   "source": [
    "(a-b)^2=a^2+b^2-2ab"
   ]
  },
  {
   "cell_type": "code",
   "execution_count": 1,
   "metadata": {},
   "outputs": [
    {
     "name": "stdout",
     "output_type": "stream",
     "text": [
      "Tensor(\"Sub:0\", shape=(), dtype=int32)\n",
      "1\n"
     ]
    }
   ],
   "source": [
    "import tensorflow as tf\n",
    "a = tf.constant(5)\n",
    "b = tf.constant(6)\n",
    "\n",
    "c= tf.multiply(a, a)\n",
    "d = tf.multiply(b,b)\n",
    "e = tf.multiply(a,b)\n",
    "f = tf.multiply(2, e)\n",
    "g=tf.add(c,d)\n",
    "h=tf.subtract(g,f)\n",
    "print(h) \n",
    "with tf.Session() as sess:\n",
    "    writer = tf.summary.FileWriter(\"/tmp/tboard/output/a11\", sess.graph)\n",
    "    print(sess.run(h))\n",
    "    writer.close()\n"
   ]
  },
  {
   "cell_type": "markdown",
   "metadata": {
    "collapsed": true
   },
   "source": [
    "(a^3+b^3)=(a+b)(a^2-ab+b^2)"
   ]
  },
  {
   "cell_type": "code",
   "execution_count": null,
   "metadata": {
    "collapsed": true
   },
   "outputs": [],
   "source": [
    "import tensorflow as tf\n",
    "a = tf.constant(2)\n",
    "b = tf.constant(2)\n",
    "\n",
    "c= tf.add(a, b)\n",
    "d = tf.multiply(a,a)\n",
    "e = tf.multiply(b,b)\n",
    "f = tf.multiply(2, e)\n",
    "g=tf.add(c,d)\n",
    "h=tf.subtract(g,f)\n",
    "print(h) \n",
    "with tf.Session() as sess:\n",
    "    writer = tf.summary.FileWriter(\"/tmp/tboard/output/a11\", sess.graph)\n",
    "    print(sess.run(h))\n",
    "    writer.close()"
   ]
  },
  {
   "cell_type": "code",
   "execution_count": null,
   "metadata": {
    "collapsed": true
   },
   "outputs": [],
   "source": []
  }
 ],
 "metadata": {
  "kernelspec": {
   "display_name": "Python 3",
   "language": "python",
   "name": "python3"
  },
  "language_info": {
   "codemirror_mode": {
    "name": "ipython",
    "version": 3
   },
   "file_extension": ".py",
   "mimetype": "text/x-python",
   "name": "python",
   "nbconvert_exporter": "python",
   "pygments_lexer": "ipython3",
   "version": "3.6.2"
  }
 },
 "nbformat": 4,
 "nbformat_minor": 2
}
